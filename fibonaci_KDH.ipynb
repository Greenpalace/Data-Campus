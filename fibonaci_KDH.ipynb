{
 "cells": [
  {
   "cell_type": "code",
   "execution_count": 3,
   "id": "93f786d9",
   "metadata": {},
   "outputs": [],
   "source": [
    "# 일반 함수\n",
    "def fib(n):\n",
    "    a,b = 1,1\n",
    "    if n==1 or n==2:\n",
    "        return 1\n",
    "    \n",
    "    for i in range(1,n):\n",
    "        a,b = b,a+b\n",
    "        \n",
    "    return a"
   ]
  },
  {
   "cell_type": "code",
   "execution_count": 4,
   "id": "0a2c5eab",
   "metadata": {},
   "outputs": [
    {
     "data": {
      "text/plain": [
       "55"
      ]
     },
     "execution_count": 4,
     "metadata": {},
     "output_type": "execute_result"
    }
   ],
   "source": [
    "fib(10)"
   ]
  },
  {
   "cell_type": "code",
   "execution_count": 7,
   "id": "ee59ffb1",
   "metadata": {},
   "outputs": [
    {
     "data": {
      "text/plain": [
       "[1, 1, 2, 3, 5, 8, 13, 21, 34]"
      ]
     },
     "execution_count": 7,
     "metadata": {},
     "output_type": "execute_result"
    }
   ],
   "source": [
    "[fib(x) for x in range(1,10)]"
   ]
  },
  {
   "cell_type": "code",
   "execution_count": 8,
   "id": "d56875f5",
   "metadata": {},
   "outputs": [],
   "source": [
    "# 재귀함수\n",
    "def fib1(n):\n",
    "    if n==1 or n==2:\n",
    "        return 1\n",
    "    else:\n",
    "        return fib1(n-1) + fib1(n-2)"
   ]
  },
  {
   "cell_type": "code",
   "execution_count": 12,
   "id": "5c79339d",
   "metadata": {},
   "outputs": [
    {
     "data": {
      "text/plain": [
       "8"
      ]
     },
     "execution_count": 12,
     "metadata": {},
     "output_type": "execute_result"
    }
   ],
   "source": [
    "fib1(6)"
   ]
  },
  {
   "cell_type": "code",
   "execution_count": 13,
   "id": "2bfc1509",
   "metadata": {},
   "outputs": [
    {
     "data": {
      "text/plain": [
       "[1, 1, 2, 3, 5, 8, 13, 21, 34]"
      ]
     },
     "execution_count": 13,
     "metadata": {},
     "output_type": "execute_result"
    }
   ],
   "source": [
    "[fib1(n) for n in range(1,10)]"
   ]
  },
  {
   "cell_type": "code",
   "execution_count": 14,
   "id": "6fc14ff3",
   "metadata": {},
   "outputs": [
    {
     "data": {
      "text/plain": [
       "1"
      ]
     },
     "execution_count": 14,
     "metadata": {},
     "output_type": "execute_result"
    }
   ],
   "source": [
    "# 제네레이터 방식\n",
    "def fib2():\n",
    "    a,b = 0,1\n",
    "    while True:\n",
    "        a,b = b,a+b\n",
    "        yield a\n",
    "\n",
    "f = fib2()\n",
    "next(f)"
   ]
  },
  {
   "cell_type": "code",
   "execution_count": 24,
   "id": "949737b2",
   "metadata": {},
   "outputs": [
    {
     "data": {
      "text/plain": [
       "89"
      ]
     },
     "execution_count": 24,
     "metadata": {},
     "output_type": "execute_result"
    }
   ],
   "source": [
    "next(f)"
   ]
  },
  {
   "cell_type": "code",
   "execution_count": 32,
   "id": "8e0a3ff6",
   "metadata": {},
   "outputs": [
    {
     "data": {
      "text/plain": [
       "[1, 1, 2, 3, 5, 8, 13, 21, 34, 55]"
      ]
     },
     "execution_count": 32,
     "metadata": {},
     "output_type": "execute_result"
    }
   ],
   "source": [
    "# 메모이제이션 방식\n",
    "\n",
    "def fib3(n):\n",
    "    fibList = [1,1]\n",
    "    if n==1 or n==2:\n",
    "        return 1 \n",
    "    for i in range(2,n):\n",
    "        fibList.append(fibList[i-1] + fibList[i-2])\n",
    "    return fibList\n",
    "    \n",
    "fib3(10)"
   ]
  },
  {
   "cell_type": "code",
   "execution_count": 33,
   "id": "38dd4aba",
   "metadata": {},
   "outputs": [
    {
     "data": {
      "text/plain": [
       "55"
      ]
     },
     "execution_count": 33,
     "metadata": {},
     "output_type": "execute_result"
    }
   ],
   "source": [
    "# 람다 함수\n",
    "\n",
    "fib4 = lambda n: 1 if n <=2 else fib4(n-1) + fib4(n-2)\n",
    "\n",
    "fib4(10)"
   ]
  },
  {
   "cell_type": "code",
   "execution_count": 34,
   "id": "7e27fd9c",
   "metadata": {},
   "outputs": [],
   "source": [
    "# 넘파이 패키기 이용\n",
    "import numpy as np"
   ]
  },
  {
   "cell_type": "code",
   "execution_count": 37,
   "id": "2ef56b2a",
   "metadata": {},
   "outputs": [
    {
     "data": {
      "text/plain": [
       "55"
      ]
     },
     "execution_count": 37,
     "metadata": {},
     "output_type": "execute_result"
    }
   ],
   "source": [
    "fib5 = np.matrix([[1,1],[1,0]])\n",
    "\n",
    "(fib5**10)[0,1]"
   ]
  },
  {
   "cell_type": "code",
   "execution_count": null,
   "id": "812c716d",
   "metadata": {},
   "outputs": [],
   "source": []
  }
 ],
 "metadata": {
  "kernelspec": {
   "display_name": "Python 3 (ipykernel)",
   "language": "python",
   "name": "python3"
  },
  "language_info": {
   "codemirror_mode": {
    "name": "ipython",
    "version": 3
   },
   "file_extension": ".py",
   "mimetype": "text/x-python",
   "name": "python",
   "nbconvert_exporter": "python",
   "pygments_lexer": "ipython3",
   "version": "3.9.12"
  }
 },
 "nbformat": 4,
 "nbformat_minor": 5
}
