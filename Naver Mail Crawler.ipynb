{
 "cells": [
  {
   "cell_type": "code",
   "execution_count": 2,
   "id": "b8014cf6",
   "metadata": {},
   "outputs": [],
   "source": [
    "from urllib.robotparser import RobotFileParser\n",
    "from requests import request, get, post\n",
    "from requests.compat import urljoin, urlparse, quote, unquote, urlunparse\n",
    "from requests.exceptions import HTTPError\n",
    "from time import sleep\n",
    "from random import randint\n",
    "from html import unescape\n",
    "import re\n",
    "from bs4 import BeautifulSoup\n",
    "from os import listdir\n",
    "from PIL import Image"
   ]
  },
  {
   "cell_type": "code",
   "execution_count": 39,
   "id": "3535e054",
   "metadata": {},
   "outputs": [],
   "source": [
    "from time import ctime"
   ]
  },
  {
   "cell_type": "code",
   "execution_count": 58,
   "id": "121b163f",
   "metadata": {},
   "outputs": [],
   "source": [
    "import re\n",
    "naverCookie = {_.split('=')[0]:_.split('=')[1] for _ in re.split('[; ]{2}','')}"
   ]
  },
  {
   "cell_type": "code",
   "execution_count": null,
   "id": "c011c972",
   "metadata": {},
   "outputs": [],
   "source": [
    "naverCookie"
   ]
  },
  {
   "cell_type": "markdown",
   "id": "9e84fee8",
   "metadata": {},
   "source": [
    "# 일반메일함"
   ]
  },
  {
   "cell_type": "code",
   "execution_count": 59,
   "id": "baf409c5",
   "metadata": {},
   "outputs": [],
   "source": [
    "url = 'https://mail.naver.com/json/list/'\n",
    "mailParams = {}\n",
    "for _ in 'page=1&sortField=1&sortType=0&folderSN=0&type=&isUnread=false&u='.split('&'):\n",
    "    mailParams[_.split('=')[0]] = _.split('=')[1]"
   ]
  },
  {
   "cell_type": "code",
   "execution_count": null,
   "id": "7aa09532",
   "metadata": {},
   "outputs": [],
   "source": [
    "from requests import request\n",
    "from requests.compat import urlencode\n",
    "resp = post(url, data = mailParams, cookies=naverCookie)\n",
    "resp.json()"
   ]
  },
  {
   "cell_type": "code",
   "execution_count": null,
   "id": "f1778e45",
   "metadata": {
    "scrolled": true
   },
   "outputs": [],
   "source": [
    "for _ in resp.json()['mailData']:\n",
    "    print(_['from']['name'],_['subject'],ctime(_['receivedTime']),'일반메일')"
   ]
  },
  {
   "cell_type": "markdown",
   "id": "258ceeaa",
   "metadata": {},
   "source": [
    "# 스팸메일함"
   ]
  },
  {
   "cell_type": "code",
   "execution_count": 51,
   "id": "49c8fd70",
   "metadata": {},
   "outputs": [],
   "source": [
    "url = 'https://mail.naver.com/json/list/'\n",
    "mailParams = {}\n",
    "for _ in 'page=1&sortField=1&sortType=0&folderSN=5&type=&isUnread=false&u='.split('&'):\n",
    "    mailParams[_.split('=')[0]] = _.split('=')[1]"
   ]
  },
  {
   "cell_type": "code",
   "execution_count": 54,
   "id": "447adb99",
   "metadata": {
    "scrolled": true
   },
   "outputs": [],
   "source": [
    "from requests import request\n",
    "from requests.compat import urlencode\n",
    "resp = post(url, data = mailParams, cookies=naverCookie)\n",
    "resp.json()"
   ]
  },
  {
   "cell_type": "code",
   "execution_count": null,
   "id": "9f4b381b",
   "metadata": {},
   "outputs": [],
   "source": [
    "for _ in resp.json()['mailData']:\n",
    "    print(_['from']['name'],_['subject'],ctime(_['receivedTime']),'스팸메일')"
   ]
  },
  {
   "cell_type": "code",
   "execution_count": null,
   "id": "4a149ac1",
   "metadata": {},
   "outputs": [],
   "source": []
  }
 ],
 "metadata": {
  "kernelspec": {
   "display_name": "Python 3 (ipykernel)",
   "language": "python",
   "name": "python3"
  },
  "language_info": {
   "codemirror_mode": {
    "name": "ipython",
    "version": 3
   },
   "file_extension": ".py",
   "mimetype": "text/x-python",
   "name": "python",
   "nbconvert_exporter": "python",
   "pygments_lexer": "ipython3",
   "version": "3.9.12"
  }
 },
 "nbformat": 4,
 "nbformat_minor": 5
}
